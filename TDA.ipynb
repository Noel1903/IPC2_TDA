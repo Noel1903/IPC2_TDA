{
  "nbformat": 4,
  "nbformat_minor": 0,
  "metadata": {
    "colab": {
      "name": "TDA.ipynb",
      "provenance": [],
      "collapsed_sections": [],
      "authorship_tag": "ABX9TyNCDNELtguZh/i7UjL/WJI6",
      "include_colab_link": true
    },
    "kernelspec": {
      "name": "python3",
      "display_name": "Python 3"
    }
  },
  "cells": [
    {
      "cell_type": "markdown",
      "metadata": {
        "id": "view-in-github",
        "colab_type": "text"
      },
      "source": [
        "<a href=\"https://colab.research.google.com/github/Noel1903/IPC2_TDA/blob/main/TDA.ipynb\" target=\"_parent\"><img src=\"https://colab.research.google.com/assets/colab-badge.svg\" alt=\"Open In Colab\"/></a>"
      ]
    },
    {
      "cell_type": "markdown",
      "metadata": {
        "id": "oYRkrmu9c_kj"
      },
      "source": [
        "**Ejercicio de Listas Enlazadas**"
      ]
    },
    {
      "cell_type": "code",
      "metadata": {
        "id": "v2PpbFb0c1GR"
      },
      "source": [
        "class cliente:\r\n",
        "  def __init__(self,nombre,no_habitacion):\r\n",
        "    self.nombre = nombre\r\n",
        "    self.no_habitacion = no_habitacion\r\n"
      ],
      "execution_count": 28,
      "outputs": []
    },
    {
      "cell_type": "code",
      "metadata": {
        "id": "RzvyGRE0V9cO"
      },
      "source": [
        "class node:\r\n",
        "  def __init__(self,cliente=None, next=None):\r\n",
        "    self.cliente = cliente\r\n",
        "    self.next = next"
      ],
      "execution_count": 29,
      "outputs": []
    },
    {
      "cell_type": "code",
      "metadata": {
        "id": "7hvxGtfHYFO5"
      },
      "source": [
        "class linked_list:\r\n",
        "  def __init__(self):\r\n",
        "    self.head = None\r\n",
        "\r\n",
        "  def imprimir(self):\r\n",
        "    node = self.head\r\n",
        "    while node != None:\r\n",
        "      print(node.cliente.nombre, end = \"=>\")\r\n",
        "      node = node.next\r\n",
        "\r\n",
        "\r\n",
        "  def insertar(self,cliente):\r\n",
        "    if not self.head:\r\n",
        "      self.head=node(cliente=cliente)\r\n",
        "      return\r\n",
        "    current = self.head  #actual\r\n",
        "    while current.next:\r\n",
        "      current = current.next\r\n",
        "    current.next = node(cliente=cliente)\r\n",
        "\r\n",
        "\r\n",
        "  def eliminar(self, no_habitacion):\r\n",
        "    current = self.head\r\n",
        "    previous = None\r\n",
        "    while current and current.cliente.no_habitacion !=no_habitacion:\r\n",
        "      previous = current\r\n",
        "      current = current.next\r\n",
        "\r\n",
        "    if previous is None:\r\n",
        "      self.head = current.next\r\n",
        "    elif current:\r\n",
        "      previous.next = current.next\r\n",
        "      current.next = None\r\n"
      ],
      "execution_count": 30,
      "outputs": []
    },
    {
      "cell_type": "code",
      "metadata": {
        "id": "DTfA41wRc2Ys"
      },
      "source": [
        "c1 = cliente(\"Estuardo Zapeta\", 101)\r\n",
        "c2 = cliente(\"Marco Lopez\", 103)\r\n",
        "c3 = cliente(\"Josue Armas\", 204)\r\n",
        "c4 = cliente(\"Gladys Olmos\", 302)"
      ],
      "execution_count": 31,
      "outputs": []
    },
    {
      "cell_type": "code",
      "metadata": {
        "id": "Kv20PBiOdRrg"
      },
      "source": [
        "lista = linked_list()\r\n",
        "lista.insertar(c1)\r\n",
        "lista.insertar(c2)\r\n",
        "lista.insertar(c3)\r\n",
        "lista.insertar(c4)"
      ],
      "execution_count": 32,
      "outputs": []
    },
    {
      "cell_type": "code",
      "metadata": {
        "colab": {
          "base_uri": "https://localhost:8080/"
        },
        "id": "ppB9-qM2f5qg",
        "outputId": "c3202987-3842-45ba-9650-b4f98079f90a"
      },
      "source": [
        "lista.imprimir()\r\n",
        "lista.eliminar(103)\r\n",
        "print(\"\")\r\n",
        "lista.imprimir()"
      ],
      "execution_count": 33,
      "outputs": [
        {
          "output_type": "stream",
          "text": [
            "Estuardo Zapeta=>Marco Lopez=>Josue Armas=>Gladys Olmos=>\n",
            "Estuardo Zapeta=>Josue Armas=>Gladys Olmos=>"
          ],
          "name": "stdout"
        }
      ]
    },
    {
      "cell_type": "markdown",
      "metadata": {
        "id": "hcvEuS2-oZ02"
      },
      "source": [
        "**Ejemplo de Listas Circulares**"
      ]
    },
    {
      "cell_type": "code",
      "metadata": {
        "id": "5UvVw_unoeQO"
      },
      "source": [
        "class linked_list_circular:\r\n",
        "  def __init__(self,head=None):\r\n",
        "    self.head = head\r\n",
        "    self.size = 0\r\n",
        "\r\n",
        "  def insertar(self, cliente):\r\n",
        "    if self.size ==0:\r\n",
        "      self.head = node(cliente=cliente)\r\n",
        "      self.head.next = self.head\r\n",
        "    else:\r\n",
        "      new_node = node(cliente=cliente, next=self.head.next)\r\n",
        "      self.head.next = new_node\r\n",
        "    self.size +=1\r\n",
        "\r\n",
        "  def imprimir(self):\r\n",
        "    if self.head is None:\r\n",
        "      return \r\n",
        "    node = self.head\r\n",
        "    print(node.cliente.nombre, end=\" => \")\r\n",
        "    while node.next != self.head:\r\n",
        "      node = node.next\r\n",
        "      print(node.cliente.nombre, end = \" => \")\r\n",
        "\r\n",
        "  def eliminar (self, no_habitacion):\r\n",
        "    node = self.head\r\n",
        "    previous = None\r\n",
        "\r\n",
        "    while True:\r\n",
        "      if node.cliente.no_habitacion == no_habitacion:\r\n",
        "        if previous is not None:\r\n",
        "          previous.next = node.next\r\n",
        "        else:\r\n",
        "          while node.next != self.head:\r\n",
        "            node = node.next\r\n",
        "          node.next = self.head.next\r\n",
        "          self.head = self.head.next\r\n",
        "        self.size -= 1\r\n",
        "        return True\r\n",
        "      elif node.next == self.head:\r\n",
        "        return False\r\n",
        "        \r\n",
        "      previous = node\r\n",
        "      node = node.next"
      ],
      "execution_count": 34,
      "outputs": []
    },
    {
      "cell_type": "code",
      "metadata": {
        "colab": {
          "base_uri": "https://localhost:8080/"
        },
        "id": "SWDcymPQRKnA",
        "outputId": "d1529960-b4ad-4b1c-8d93-7c57651afb5a"
      },
      "source": [
        "lista_c = linked_list_circular()\r\n",
        "lista_c.insertar(c1)\r\n",
        "lista_c.insertar(c2)\r\n",
        "lista_c.insertar(c3)\r\n",
        "lista_c.insertar(c4)\r\n",
        "lista_c.imprimir()\r\n",
        "print()\r\n",
        "lista_c.eliminar(101)\r\n",
        "lista_c.imprimir()"
      ],
      "execution_count": 35,
      "outputs": [
        {
          "output_type": "stream",
          "text": [
            "Estuardo Zapeta => Gladys Olmos => Josue Armas => Marco Lopez => \n",
            "Gladys Olmos => Josue Armas => Marco Lopez => "
          ],
          "name": "stdout"
        }
      ]
    },
    {
      "cell_type": "markdown",
      "metadata": {
        "id": "N9TM2M5GimeE"
      },
      "source": [
        "### **Listas doblemente enlazadas**"
      ]
    },
    {
      "cell_type": "code",
      "metadata": {
        "id": "QM78FAMgivIs"
      },
      "source": [
        "class node_de:\r\n",
        "  def __init__(self, cliente=None, next=None,previous=None):\r\n",
        "    self.cliente = cliente\r\n",
        "    self.previous = previous\r\n",
        "    self.next = next"
      ],
      "execution_count": 36,
      "outputs": []
    },
    {
      "cell_type": "code",
      "metadata": {
        "id": "_wtx7jCVZFqF"
      },
      "source": [
        "class linked_list_de:\r\n",
        "  def __init__(self, head=None):\r\n",
        "    self.head = head\r\n",
        "    self.last = head\r\n",
        "    self.size = 0\r\n",
        "\r\n",
        "  def insertar(self, cliente):\r\n",
        "    if self.size == 0:\r\n",
        "      self.head = node_de(cliente=cliente)\r\n",
        "      self.last = self.head\r\n",
        "    else:\r\n",
        "      new_node = node_de(cliente=cliente, next=self.head)\r\n",
        "      self.head.previous = new_node\r\n",
        "      self.head = new_node\r\n",
        "    self.size += 1\r\n",
        "\r\n",
        "  def imprimir(self):\r\n",
        "    if self.head is None:\r\n",
        "      return\r\n",
        "    node = self.head\r\n",
        "    print(node.cliente.nombre, end = \" <=> \")\r\n",
        "    while node.next:\r\n",
        "      node = node.next\r\n",
        "      print(node.cliente.nombre, end = \" <=> \")\r\n",
        "\r\n",
        "  def eliminar(self, no_habitacion):\r\n",
        "    node = self.head\r\n",
        "    while node is not None:\r\n",
        "      if node.cliente.no_habitacion == no_habitacion:\r\n",
        "        if node.previous is not None:\r\n",
        "          if node.next:\r\n",
        "            node.previous.next = node.next\r\n",
        "            node.next.previous = node.previous\r\n",
        "          else:\r\n",
        "            node.previous.next = None\r\n",
        "            self.last = node.previous\r\n",
        "        else:\r\n",
        "          self.head = node.next\r\n",
        "          node.next.previous = self.head\r\n",
        "        self.size -= 1\r\n",
        "        return True\r\n",
        "      else:\r\n",
        "        node = node.next\r\n",
        "    return False"
      ],
      "execution_count": 49,
      "outputs": []
    },
    {
      "cell_type": "code",
      "metadata": {
        "colab": {
          "base_uri": "https://localhost:8080/"
        },
        "id": "aCZRoYRQch_v",
        "outputId": "e07c381e-4382-47c0-d9b3-c043c77f38ea"
      },
      "source": [
        "lista_de = linked_list_de()\r\n",
        "lista_de.insertar(c1)\r\n",
        "lista_de.insertar(c2)\r\n",
        "lista_de.insertar(c3)\r\n",
        "lista_de.imprimir()"
      ],
      "execution_count": 59,
      "outputs": [
        {
          "output_type": "stream",
          "text": [
            "Josue Armas <=> Marco Lopez <=> Estuardo Zapeta <=> "
          ],
          "name": "stdout"
        }
      ]
    },
    {
      "cell_type": "code",
      "metadata": {
        "colab": {
          "base_uri": "https://localhost:8080/"
        },
        "id": "HKVTAl5HmZaC",
        "outputId": "d7a22c49-993a-4c3a-c68e-f432980d3367"
      },
      "source": [
        "lista_de.eliminar(204)"
      ],
      "execution_count": 60,
      "outputs": [
        {
          "output_type": "execute_result",
          "data": {
            "text/plain": [
              "True"
            ]
          },
          "metadata": {
            "tags": []
          },
          "execution_count": 60
        }
      ]
    },
    {
      "cell_type": "code",
      "metadata": {
        "colab": {
          "base_uri": "https://localhost:8080/"
        },
        "id": "k8GtHP_9nGTe",
        "outputId": "1df60972-d315-4461-f92e-cead47a2055f"
      },
      "source": [
        "lista_de.imprimir()"
      ],
      "execution_count": 61,
      "outputs": [
        {
          "output_type": "stream",
          "text": [
            "Marco Lopez <=> Estuardo Zapeta <=> "
          ],
          "name": "stdout"
        }
      ]
    }
  ]
}